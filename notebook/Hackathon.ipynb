{
 "cells": [
  {
   "cell_type": "code",
   "execution_count": 1,
   "metadata": {},
   "outputs": [],
   "source": [
    "import pandas as pd\n",
    "import numpy as np\n",
    "import seaborn as sns\n",
    "import matplotlib.pyplot as plt\n",
    "from sklearn.preprocessing import StandardScaler,LabelEncoder\n"
   ]
  },
  {
   "cell_type": "code",
   "execution_count": 69,
   "metadata": {},
   "outputs": [],
   "source": [
    "data = pd.read_csv('train.csv')"
   ]
  },
  {
   "cell_type": "code",
   "execution_count": 56,
   "metadata": {},
   "outputs": [
    {
     "data": {
      "text/html": [
       "<div>\n",
       "<style scoped>\n",
       "    .dataframe tbody tr th:only-of-type {\n",
       "        vertical-align: middle;\n",
       "    }\n",
       "\n",
       "    .dataframe tbody tr th {\n",
       "        vertical-align: top;\n",
       "    }\n",
       "\n",
       "    .dataframe thead th {\n",
       "        text-align: right;\n",
       "    }\n",
       "</style>\n",
       "<table border=\"1\" class=\"dataframe\">\n",
       "  <thead>\n",
       "    <tr style=\"text-align: right;\">\n",
       "      <th></th>\n",
       "      <th>ID</th>\n",
       "      <th>Year Type</th>\n",
       "      <th>Year</th>\n",
       "      <th>Organization Group Code</th>\n",
       "      <th>Organization Group</th>\n",
       "      <th>Department Code</th>\n",
       "      <th>Department</th>\n",
       "      <th>Union Code</th>\n",
       "      <th>Union</th>\n",
       "      <th>Job Family Code</th>\n",
       "      <th>...</th>\n",
       "      <th>Job Code</th>\n",
       "      <th>Job</th>\n",
       "      <th>Employee Identifier</th>\n",
       "      <th>Overtime</th>\n",
       "      <th>Other Salaries</th>\n",
       "      <th>Retirement</th>\n",
       "      <th>Health/Dental</th>\n",
       "      <th>Other Benefits</th>\n",
       "      <th>Total Benefits</th>\n",
       "      <th>Class</th>\n",
       "    </tr>\n",
       "  </thead>\n",
       "  <tbody>\n",
       "    <tr>\n",
       "      <th>0</th>\n",
       "      <td>9248</td>\n",
       "      <td>Fiscal</td>\n",
       "      <td>2017</td>\n",
       "      <td>3</td>\n",
       "      <td>Human Welfare &amp; Neighborhood Development</td>\n",
       "      <td>DSS</td>\n",
       "      <td>HSA Human Services Agency</td>\n",
       "      <td>535</td>\n",
       "      <td>SEIU - Human Services, Local 1021</td>\n",
       "      <td>2900</td>\n",
       "      <td>...</td>\n",
       "      <td>2905</td>\n",
       "      <td>Senior Eligibility Worker</td>\n",
       "      <td>41351</td>\n",
       "      <td>0.00</td>\n",
       "      <td>240.00</td>\n",
       "      <td>11896.36</td>\n",
       "      <td>13765.55</td>\n",
       "      <td>5248.43</td>\n",
       "      <td>30910.34</td>\n",
       "      <td>2</td>\n",
       "    </tr>\n",
       "    <tr>\n",
       "      <th>1</th>\n",
       "      <td>44541</td>\n",
       "      <td>Fiscal</td>\n",
       "      <td>2014</td>\n",
       "      <td>6</td>\n",
       "      <td>General Administration &amp; Finance</td>\n",
       "      <td>ASR</td>\n",
       "      <td>ASR Assessor / Recorder</td>\n",
       "      <td>21</td>\n",
       "      <td>Prof &amp; Tech Engineers - Miscellaneous, Local 21</td>\n",
       "      <td>4200</td>\n",
       "      <td>...</td>\n",
       "      <td>4222</td>\n",
       "      <td>Sr Personal Property Auditor</td>\n",
       "      <td>41792</td>\n",
       "      <td>0.00</td>\n",
       "      <td>400.00</td>\n",
       "      <td>15429.94</td>\n",
       "      <td>9337.37</td>\n",
       "      <td>5599.01</td>\n",
       "      <td>30366.32</td>\n",
       "      <td>2</td>\n",
       "    </tr>\n",
       "    <tr>\n",
       "      <th>2</th>\n",
       "      <td>47031</td>\n",
       "      <td>Fiscal</td>\n",
       "      <td>2014</td>\n",
       "      <td>3</td>\n",
       "      <td>Human Welfare &amp; Neighborhood Development</td>\n",
       "      <td>DSS</td>\n",
       "      <td>HSA Human Services Agency</td>\n",
       "      <td>535</td>\n",
       "      <td>SEIU - Human Services, Local 1021</td>\n",
       "      <td>2900</td>\n",
       "      <td>...</td>\n",
       "      <td>2910</td>\n",
       "      <td>Social Worker</td>\n",
       "      <td>9357</td>\n",
       "      <td>0.00</td>\n",
       "      <td>1080.00</td>\n",
       "      <td>9682.00</td>\n",
       "      <td>8848.03</td>\n",
       "      <td>3463.92</td>\n",
       "      <td>21993.95</td>\n",
       "      <td>2</td>\n",
       "    </tr>\n",
       "    <tr>\n",
       "      <th>3</th>\n",
       "      <td>139416</td>\n",
       "      <td>Fiscal</td>\n",
       "      <td>2014</td>\n",
       "      <td>1</td>\n",
       "      <td>Public Protection</td>\n",
       "      <td>FIR</td>\n",
       "      <td>FIR Fire Department</td>\n",
       "      <td>798</td>\n",
       "      <td>Firefighters - Miscellaneous, Local 798</td>\n",
       "      <td>H000</td>\n",
       "      <td>...</td>\n",
       "      <td>H002</td>\n",
       "      <td>Firefighter</td>\n",
       "      <td>28022</td>\n",
       "      <td>25730.46</td>\n",
       "      <td>18414.18</td>\n",
       "      <td>24222.26</td>\n",
       "      <td>13911.13</td>\n",
       "      <td>2416.58</td>\n",
       "      <td>40549.97</td>\n",
       "      <td>3</td>\n",
       "    </tr>\n",
       "    <tr>\n",
       "      <th>4</th>\n",
       "      <td>123780</td>\n",
       "      <td>Fiscal</td>\n",
       "      <td>2013</td>\n",
       "      <td>2</td>\n",
       "      <td>Public Works, Transportation &amp; Commerce</td>\n",
       "      <td>MTA</td>\n",
       "      <td>MTA Municipal Transprtn Agncy</td>\n",
       "      <td>790</td>\n",
       "      <td>SEIU - Miscellaneous, Local 1021</td>\n",
       "      <td>1600</td>\n",
       "      <td>...</td>\n",
       "      <td>1224</td>\n",
       "      <td>Pr Payroll &amp; Personnel Clerk</td>\n",
       "      <td>51052</td>\n",
       "      <td>1138.28</td>\n",
       "      <td>2148.11</td>\n",
       "      <td>15437.62</td>\n",
       "      <td>12828.15</td>\n",
       "      <td>7246.54</td>\n",
       "      <td>35512.31</td>\n",
       "      <td>3</td>\n",
       "    </tr>\n",
       "  </tbody>\n",
       "</table>\n",
       "<p>5 rows × 21 columns</p>\n",
       "</div>"
      ],
      "text/plain": [
       "       ID Year Type  Year  Organization Group Code  \\\n",
       "0    9248    Fiscal  2017                        3   \n",
       "1   44541    Fiscal  2014                        6   \n",
       "2   47031    Fiscal  2014                        3   \n",
       "3  139416    Fiscal  2014                        1   \n",
       "4  123780    Fiscal  2013                        2   \n",
       "\n",
       "                         Organization Group Department Code  \\\n",
       "0  Human Welfare & Neighborhood Development             DSS   \n",
       "1          General Administration & Finance             ASR   \n",
       "2  Human Welfare & Neighborhood Development             DSS   \n",
       "3                         Public Protection             FIR   \n",
       "4   Public Works, Transportation & Commerce             MTA   \n",
       "\n",
       "                      Department  Union Code  \\\n",
       "0      HSA Human Services Agency         535   \n",
       "1        ASR Assessor / Recorder          21   \n",
       "2      HSA Human Services Agency         535   \n",
       "3            FIR Fire Department         798   \n",
       "4  MTA Municipal Transprtn Agncy         790   \n",
       "\n",
       "                                             Union Job Family Code  ...  \\\n",
       "0                SEIU - Human Services, Local 1021            2900  ...   \n",
       "1  Prof & Tech Engineers - Miscellaneous, Local 21            4200  ...   \n",
       "2                SEIU - Human Services, Local 1021            2900  ...   \n",
       "3          Firefighters - Miscellaneous, Local 798            H000  ...   \n",
       "4                 SEIU - Miscellaneous, Local 1021            1600  ...   \n",
       "\n",
       "  Job Code                           Job Employee Identifier  Overtime  \\\n",
       "0     2905     Senior Eligibility Worker               41351      0.00   \n",
       "1     4222  Sr Personal Property Auditor               41792      0.00   \n",
       "2     2910                 Social Worker                9357      0.00   \n",
       "3     H002                   Firefighter               28022  25730.46   \n",
       "4     1224  Pr Payroll & Personnel Clerk               51052   1138.28   \n",
       "\n",
       "   Other Salaries  Retirement  Health/Dental  Other Benefits  Total Benefits  \\\n",
       "0          240.00    11896.36       13765.55         5248.43        30910.34   \n",
       "1          400.00    15429.94        9337.37         5599.01        30366.32   \n",
       "2         1080.00     9682.00        8848.03         3463.92        21993.95   \n",
       "3        18414.18    24222.26       13911.13         2416.58        40549.97   \n",
       "4         2148.11    15437.62       12828.15         7246.54        35512.31   \n",
       "\n",
       "   Class  \n",
       "0      2  \n",
       "1      2  \n",
       "2      2  \n",
       "3      3  \n",
       "4      3  \n",
       "\n",
       "[5 rows x 21 columns]"
      ]
     },
     "execution_count": 56,
     "metadata": {},
     "output_type": "execute_result"
    }
   ],
   "source": [
    "data.head()"
   ]
  },
  {
   "cell_type": "code",
   "execution_count": 4,
   "metadata": {},
   "outputs": [
    {
     "data": {
      "text/plain": [
       "(149087, 21)"
      ]
     },
     "execution_count": 4,
     "metadata": {},
     "output_type": "execute_result"
    }
   ],
   "source": [
    "data.shape"
   ]
  },
  {
   "cell_type": "code",
   "execution_count": 5,
   "metadata": {
    "scrolled": false
   },
   "outputs": [
    {
     "data": {
      "text/plain": [
       "ID                         0\n",
       "Year Type                  0\n",
       "Year                       0\n",
       "Organization Group Code    0\n",
       "Organization Group         0\n",
       "Department Code            0\n",
       "Department                 0\n",
       "Union Code                 0\n",
       "Union                      0\n",
       "Job Family Code            0\n",
       "Job Family                 0\n",
       "Job Code                   0\n",
       "Job                        0\n",
       "Employee Identifier        0\n",
       "Overtime                   0\n",
       "Other Salaries             0\n",
       "Retirement                 0\n",
       "Health/Dental              0\n",
       "Other Benefits             0\n",
       "Total Benefits             0\n",
       "Class                      0\n",
       "dtype: int64"
      ]
     },
     "execution_count": 5,
     "metadata": {},
     "output_type": "execute_result"
    }
   ],
   "source": [
    "data.isnull().sum()"
   ]
  },
  {
   "cell_type": "code",
   "execution_count": 6,
   "metadata": {
    "scrolled": false
   },
   "outputs": [
    {
     "name": "stdout",
     "output_type": "stream",
     "text": [
      "<class 'pandas.core.frame.DataFrame'>\n",
      "RangeIndex: 149087 entries, 0 to 149086\n",
      "Data columns (total 21 columns):\n",
      "ID                         149087 non-null int64\n",
      "Year Type                  149087 non-null object\n",
      "Year                       149087 non-null int64\n",
      "Organization Group Code    149087 non-null int64\n",
      "Organization Group         149087 non-null object\n",
      "Department Code            149087 non-null object\n",
      "Department                 149087 non-null object\n",
      "Union Code                 149087 non-null int64\n",
      "Union                      149087 non-null object\n",
      "Job Family Code            149087 non-null object\n",
      "Job Family                 149087 non-null object\n",
      "Job Code                   149087 non-null object\n",
      "Job                        149087 non-null object\n",
      "Employee Identifier        149087 non-null int64\n",
      "Overtime                   149087 non-null float64\n",
      "Other Salaries             149087 non-null float64\n",
      "Retirement                 149087 non-null float64\n",
      "Health/Dental              149087 non-null float64\n",
      "Other Benefits             149087 non-null float64\n",
      "Total Benefits             149087 non-null float64\n",
      "Class                      149087 non-null int64\n",
      "dtypes: float64(6), int64(6), object(9)\n",
      "memory usage: 23.9+ MB\n"
     ]
    }
   ],
   "source": [
    "data.info()"
   ]
  },
  {
   "cell_type": "code",
   "execution_count": 70,
   "metadata": {
    "scrolled": true
   },
   "outputs": [],
   "source": [
    "data.drop(['Year Type', 'Organization Group', 'Department', 'Union', 'Job Family', 'Job'], axis=1, inplace=True)"
   ]
  },
  {
   "cell_type": "code",
   "execution_count": 71,
   "metadata": {},
   "outputs": [
    {
     "name": "stdout",
     "output_type": "stream",
     "text": [
      "<class 'pandas.core.frame.DataFrame'>\n",
      "RangeIndex: 174428 entries, 0 to 174427\n",
      "Data columns (total 15 columns):\n",
      "ID                         174428 non-null int64\n",
      "Year                       174428 non-null int64\n",
      "Organization Group Code    174428 non-null int64\n",
      "Department Code            174428 non-null object\n",
      "Union Code                 174428 non-null int64\n",
      "Job Family Code            174428 non-null object\n",
      "Job Code                   174428 non-null object\n",
      "Employee Identifier        174428 non-null int64\n",
      "Overtime                   174428 non-null float64\n",
      "Other Salaries             174428 non-null float64\n",
      "Retirement                 174428 non-null float64\n",
      "Health/Dental              174428 non-null float64\n",
      "Other Benefits             174428 non-null float64\n",
      "Total Benefits             174428 non-null float64\n",
      "Class                      174428 non-null int64\n",
      "dtypes: float64(6), int64(6), object(3)\n",
      "memory usage: 20.0+ MB\n"
     ]
    }
   ],
   "source": [
    "data.info()"
   ]
  },
  {
   "cell_type": "code",
   "execution_count": 72,
   "metadata": {},
   "outputs": [
    {
     "name": "stdout",
     "output_type": "stream",
     "text": [
      "<class 'pandas.core.frame.DataFrame'>\n",
      "RangeIndex: 174428 entries, 0 to 174427\n",
      "Data columns (total 15 columns):\n",
      "ID                         174428 non-null int64\n",
      "Year                       174428 non-null int64\n",
      "Organization Group Code    174428 non-null int64\n",
      "Department Code            174428 non-null int32\n",
      "Union Code                 174428 non-null int64\n",
      "Job Family Code            174428 non-null int32\n",
      "Job Code                   174428 non-null int32\n",
      "Employee Identifier        174428 non-null int64\n",
      "Overtime                   174428 non-null float64\n",
      "Other Salaries             174428 non-null float64\n",
      "Retirement                 174428 non-null float64\n",
      "Health/Dental              174428 non-null float64\n",
      "Other Benefits             174428 non-null float64\n",
      "Total Benefits             174428 non-null float64\n",
      "Class                      174428 non-null int64\n",
      "dtypes: float64(6), int32(3), int64(6)\n",
      "memory usage: 18.0 MB\n"
     ]
    }
   ],
   "source": [
    "le = LabelEncoder()\n",
    "data['Department Code'] = le.fit_transform(data['Department Code'])\n",
    "data['Job Family Code'] = le.fit_transform(data['Job Family Code'])\n",
    "data['Job Code'] = le.fit_transform(data['Job Code'])\n",
    "data.info()"
   ]
  },
  {
   "cell_type": "code",
   "execution_count": 49,
   "metadata": {},
   "outputs": [
    {
     "data": {
      "text/html": [
       "<div>\n",
       "<style scoped>\n",
       "    .dataframe tbody tr th:only-of-type {\n",
       "        vertical-align: middle;\n",
       "    }\n",
       "\n",
       "    .dataframe tbody tr th {\n",
       "        vertical-align: top;\n",
       "    }\n",
       "\n",
       "    .dataframe thead th {\n",
       "        text-align: right;\n",
       "    }\n",
       "</style>\n",
       "<table border=\"1\" class=\"dataframe\">\n",
       "  <thead>\n",
       "    <tr style=\"text-align: right;\">\n",
       "      <th></th>\n",
       "      <th>ID</th>\n",
       "      <th>Year</th>\n",
       "      <th>Organization Group Code</th>\n",
       "      <th>Department Code</th>\n",
       "      <th>Union Code</th>\n",
       "      <th>Job Family Code</th>\n",
       "      <th>Job Code</th>\n",
       "      <th>Overtime</th>\n",
       "      <th>Other Salaries</th>\n",
       "      <th>Retirement</th>\n",
       "      <th>Health/Dental</th>\n",
       "      <th>Other Benefits</th>\n",
       "      <th>Total Benefits</th>\n",
       "      <th>Class</th>\n",
       "    </tr>\n",
       "  </thead>\n",
       "  <tbody>\n",
       "    <tr>\n",
       "      <th>0</th>\n",
       "      <td>9248</td>\n",
       "      <td>2017</td>\n",
       "      <td>3</td>\n",
       "      <td>22</td>\n",
       "      <td>535</td>\n",
       "      <td>18</td>\n",
       "      <td>373</td>\n",
       "      <td>0.00</td>\n",
       "      <td>240.00</td>\n",
       "      <td>11896.36</td>\n",
       "      <td>13765.55</td>\n",
       "      <td>5248.43</td>\n",
       "      <td>30910.34</td>\n",
       "      <td>2</td>\n",
       "    </tr>\n",
       "    <tr>\n",
       "      <th>1</th>\n",
       "      <td>44541</td>\n",
       "      <td>2014</td>\n",
       "      <td>6</td>\n",
       "      <td>5</td>\n",
       "      <td>21</td>\n",
       "      <td>25</td>\n",
       "      <td>509</td>\n",
       "      <td>0.00</td>\n",
       "      <td>400.00</td>\n",
       "      <td>15429.94</td>\n",
       "      <td>9337.37</td>\n",
       "      <td>5599.01</td>\n",
       "      <td>30366.32</td>\n",
       "      <td>2</td>\n",
       "    </tr>\n",
       "    <tr>\n",
       "      <th>2</th>\n",
       "      <td>47031</td>\n",
       "      <td>2014</td>\n",
       "      <td>3</td>\n",
       "      <td>22</td>\n",
       "      <td>535</td>\n",
       "      <td>18</td>\n",
       "      <td>377</td>\n",
       "      <td>0.00</td>\n",
       "      <td>1080.00</td>\n",
       "      <td>9682.00</td>\n",
       "      <td>8848.03</td>\n",
       "      <td>3463.92</td>\n",
       "      <td>21993.95</td>\n",
       "      <td>2</td>\n",
       "    </tr>\n",
       "    <tr>\n",
       "      <th>3</th>\n",
       "      <td>139416</td>\n",
       "      <td>2014</td>\n",
       "      <td>1</td>\n",
       "      <td>28</td>\n",
       "      <td>798</td>\n",
       "      <td>53</td>\n",
       "      <td>1096</td>\n",
       "      <td>25730.46</td>\n",
       "      <td>18414.18</td>\n",
       "      <td>24222.26</td>\n",
       "      <td>13911.13</td>\n",
       "      <td>2416.58</td>\n",
       "      <td>40549.97</td>\n",
       "      <td>3</td>\n",
       "    </tr>\n",
       "    <tr>\n",
       "      <th>4</th>\n",
       "      <td>123780</td>\n",
       "      <td>2013</td>\n",
       "      <td>2</td>\n",
       "      <td>37</td>\n",
       "      <td>790</td>\n",
       "      <td>6</td>\n",
       "      <td>60</td>\n",
       "      <td>1138.28</td>\n",
       "      <td>2148.11</td>\n",
       "      <td>15437.62</td>\n",
       "      <td>12828.15</td>\n",
       "      <td>7246.54</td>\n",
       "      <td>35512.31</td>\n",
       "      <td>3</td>\n",
       "    </tr>\n",
       "  </tbody>\n",
       "</table>\n",
       "</div>"
      ],
      "text/plain": [
       "       ID  Year  Organization Group Code  Department Code  Union Code  \\\n",
       "0    9248  2017                        3               22         535   \n",
       "1   44541  2014                        6                5          21   \n",
       "2   47031  2014                        3               22         535   \n",
       "3  139416  2014                        1               28         798   \n",
       "4  123780  2013                        2               37         790   \n",
       "\n",
       "   Job Family Code  Job Code  Overtime  Other Salaries  Retirement  \\\n",
       "0               18       373      0.00          240.00    11896.36   \n",
       "1               25       509      0.00          400.00    15429.94   \n",
       "2               18       377      0.00         1080.00     9682.00   \n",
       "3               53      1096  25730.46        18414.18    24222.26   \n",
       "4                6        60   1138.28         2148.11    15437.62   \n",
       "\n",
       "   Health/Dental  Other Benefits  Total Benefits  Class  \n",
       "0       13765.55         5248.43        30910.34      2  \n",
       "1        9337.37         5599.01        30366.32      2  \n",
       "2        8848.03         3463.92        21993.95      2  \n",
       "3       13911.13         2416.58        40549.97      3  \n",
       "4       12828.15         7246.54        35512.31      3  "
      ]
     },
     "execution_count": 49,
     "metadata": {},
     "output_type": "execute_result"
    }
   ],
   "source": [
    "data.head()"
   ]
  },
  {
   "cell_type": "code",
   "execution_count": 50,
   "metadata": {},
   "outputs": [
    {
     "data": {
      "text/html": [
       "<div>\n",
       "<style scoped>\n",
       "    .dataframe tbody tr th:only-of-type {\n",
       "        vertical-align: middle;\n",
       "    }\n",
       "\n",
       "    .dataframe tbody tr th {\n",
       "        vertical-align: top;\n",
       "    }\n",
       "\n",
       "    .dataframe thead th {\n",
       "        text-align: right;\n",
       "    }\n",
       "</style>\n",
       "<table border=\"1\" class=\"dataframe\">\n",
       "  <thead>\n",
       "    <tr style=\"text-align: right;\">\n",
       "      <th></th>\n",
       "      <th>count</th>\n",
       "      <th>mean</th>\n",
       "      <th>std</th>\n",
       "      <th>min</th>\n",
       "      <th>25%</th>\n",
       "      <th>50%</th>\n",
       "      <th>75%</th>\n",
       "      <th>max</th>\n",
       "    </tr>\n",
       "  </thead>\n",
       "  <tbody>\n",
       "    <tr>\n",
       "      <th>ID</th>\n",
       "      <td>149087.0</td>\n",
       "      <td>106616.273807</td>\n",
       "      <td>61550.046783</td>\n",
       "      <td>0.00</td>\n",
       "      <td>53204.500</td>\n",
       "      <td>106623.00</td>\n",
       "      <td>159919.500</td>\n",
       "      <td>213201.00</td>\n",
       "    </tr>\n",
       "    <tr>\n",
       "      <th>Year</th>\n",
       "      <td>149087.0</td>\n",
       "      <td>2015.072018</td>\n",
       "      <td>1.410452</td>\n",
       "      <td>2013.00</td>\n",
       "      <td>2014.000</td>\n",
       "      <td>2015.00</td>\n",
       "      <td>2016.000</td>\n",
       "      <td>2017.00</td>\n",
       "    </tr>\n",
       "    <tr>\n",
       "      <th>Organization Group Code</th>\n",
       "      <td>149087.0</td>\n",
       "      <td>2.976980</td>\n",
       "      <td>1.582080</td>\n",
       "      <td>1.00</td>\n",
       "      <td>2.000</td>\n",
       "      <td>2.00</td>\n",
       "      <td>4.000</td>\n",
       "      <td>7.00</td>\n",
       "    </tr>\n",
       "    <tr>\n",
       "      <th>Department Code</th>\n",
       "      <td>149087.0</td>\n",
       "      <td>28.015689</td>\n",
       "      <td>13.291544</td>\n",
       "      <td>0.00</td>\n",
       "      <td>20.000</td>\n",
       "      <td>23.00</td>\n",
       "      <td>37.000</td>\n",
       "      <td>55.00</td>\n",
       "    </tr>\n",
       "    <tr>\n",
       "      <th>Union Code</th>\n",
       "      <td>149087.0</td>\n",
       "      <td>491.154963</td>\n",
       "      <td>333.914881</td>\n",
       "      <td>1.00</td>\n",
       "      <td>216.000</td>\n",
       "      <td>535.00</td>\n",
       "      <td>790.000</td>\n",
       "      <td>990.00</td>\n",
       "    </tr>\n",
       "    <tr>\n",
       "      <th>Job Family Code</th>\n",
       "      <td>149087.0</td>\n",
       "      <td>29.772053</td>\n",
       "      <td>17.921042</td>\n",
       "      <td>0.00</td>\n",
       "      <td>12.000</td>\n",
       "      <td>29.00</td>\n",
       "      <td>47.000</td>\n",
       "      <td>61.00</td>\n",
       "    </tr>\n",
       "    <tr>\n",
       "      <th>Job Code</th>\n",
       "      <td>149087.0</td>\n",
       "      <td>639.181572</td>\n",
       "      <td>366.845032</td>\n",
       "      <td>0.00</td>\n",
       "      <td>310.000</td>\n",
       "      <td>619.00</td>\n",
       "      <td>994.000</td>\n",
       "      <td>1140.00</td>\n",
       "    </tr>\n",
       "    <tr>\n",
       "      <th>Overtime</th>\n",
       "      <td>149087.0</td>\n",
       "      <td>4511.488439</td>\n",
       "      <td>11361.792998</td>\n",
       "      <td>-12308.66</td>\n",
       "      <td>0.000</td>\n",
       "      <td>0.00</td>\n",
       "      <td>2872.240</td>\n",
       "      <td>227313.62</td>\n",
       "    </tr>\n",
       "    <tr>\n",
       "      <th>Other Salaries</th>\n",
       "      <td>149087.0</td>\n",
       "      <td>3754.638895</td>\n",
       "      <td>7516.445237</td>\n",
       "      <td>-19131.10</td>\n",
       "      <td>0.000</td>\n",
       "      <td>698.35</td>\n",
       "      <td>4558.190</td>\n",
       "      <td>336726.34</td>\n",
       "    </tr>\n",
       "    <tr>\n",
       "      <th>Retirement</th>\n",
       "      <td>149087.0</td>\n",
       "      <td>12632.395320</td>\n",
       "      <td>9657.913757</td>\n",
       "      <td>-28723.19</td>\n",
       "      <td>3228.975</td>\n",
       "      <td>12839.71</td>\n",
       "      <td>19137.745</td>\n",
       "      <td>101306.01</td>\n",
       "    </tr>\n",
       "    <tr>\n",
       "      <th>Health/Dental</th>\n",
       "      <td>149087.0</td>\n",
       "      <td>9058.531893</td>\n",
       "      <td>5024.486147</td>\n",
       "      <td>-2946.53</td>\n",
       "      <td>4274.930</td>\n",
       "      <td>12137.40</td>\n",
       "      <td>12828.180</td>\n",
       "      <td>22052.15</td>\n",
       "    </tr>\n",
       "    <tr>\n",
       "      <th>Other Benefits</th>\n",
       "      <td>149087.0</td>\n",
       "      <td>4720.552627</td>\n",
       "      <td>3933.772085</td>\n",
       "      <td>-9857.74</td>\n",
       "      <td>1578.475</td>\n",
       "      <td>4395.51</td>\n",
       "      <td>6943.835</td>\n",
       "      <td>36815.39</td>\n",
       "    </tr>\n",
       "    <tr>\n",
       "      <th>Total Benefits</th>\n",
       "      <td>149087.0</td>\n",
       "      <td>26411.479840</td>\n",
       "      <td>16893.424789</td>\n",
       "      <td>-19814.44</td>\n",
       "      <td>9313.965</td>\n",
       "      <td>30311.56</td>\n",
       "      <td>38510.300</td>\n",
       "      <td>138503.52</td>\n",
       "    </tr>\n",
       "    <tr>\n",
       "      <th>Class</th>\n",
       "      <td>149087.0</td>\n",
       "      <td>2.014347</td>\n",
       "      <td>0.816750</td>\n",
       "      <td>1.00</td>\n",
       "      <td>1.000</td>\n",
       "      <td>2.00</td>\n",
       "      <td>3.000</td>\n",
       "      <td>3.00</td>\n",
       "    </tr>\n",
       "  </tbody>\n",
       "</table>\n",
       "</div>"
      ],
      "text/plain": [
       "                            count           mean           std       min  \\\n",
       "ID                       149087.0  106616.273807  61550.046783      0.00   \n",
       "Year                     149087.0    2015.072018      1.410452   2013.00   \n",
       "Organization Group Code  149087.0       2.976980      1.582080      1.00   \n",
       "Department Code          149087.0      28.015689     13.291544      0.00   \n",
       "Union Code               149087.0     491.154963    333.914881      1.00   \n",
       "Job Family Code          149087.0      29.772053     17.921042      0.00   \n",
       "Job Code                 149087.0     639.181572    366.845032      0.00   \n",
       "Overtime                 149087.0    4511.488439  11361.792998 -12308.66   \n",
       "Other Salaries           149087.0    3754.638895   7516.445237 -19131.10   \n",
       "Retirement               149087.0   12632.395320   9657.913757 -28723.19   \n",
       "Health/Dental            149087.0    9058.531893   5024.486147  -2946.53   \n",
       "Other Benefits           149087.0    4720.552627   3933.772085  -9857.74   \n",
       "Total Benefits           149087.0   26411.479840  16893.424789 -19814.44   \n",
       "Class                    149087.0       2.014347      0.816750      1.00   \n",
       "\n",
       "                               25%        50%         75%        max  \n",
       "ID                       53204.500  106623.00  159919.500  213201.00  \n",
       "Year                      2014.000    2015.00    2016.000    2017.00  \n",
       "Organization Group Code      2.000       2.00       4.000       7.00  \n",
       "Department Code             20.000      23.00      37.000      55.00  \n",
       "Union Code                 216.000     535.00     790.000     990.00  \n",
       "Job Family Code             12.000      29.00      47.000      61.00  \n",
       "Job Code                   310.000     619.00     994.000    1140.00  \n",
       "Overtime                     0.000       0.00    2872.240  227313.62  \n",
       "Other Salaries               0.000     698.35    4558.190  336726.34  \n",
       "Retirement                3228.975   12839.71   19137.745  101306.01  \n",
       "Health/Dental             4274.930   12137.40   12828.180   22052.15  \n",
       "Other Benefits            1578.475    4395.51    6943.835   36815.39  \n",
       "Total Benefits            9313.965   30311.56   38510.300  138503.52  \n",
       "Class                        1.000       2.00       3.000       3.00  "
      ]
     },
     "execution_count": 50,
     "metadata": {},
     "output_type": "execute_result"
    }
   ],
   "source": [
    "data.describe().T"
   ]
  },
  {
   "cell_type": "code",
   "execution_count": 109,
   "metadata": {
    "scrolled": true
   },
   "outputs": [],
   "source": [
    "# data['Total Benefits'] = pd.DataFrame(np.where(data['Total Benefits']<0, , data['Total Benefits']))"
   ]
  },
  {
   "cell_type": "code",
   "execution_count": 125,
   "metadata": {},
   "outputs": [],
   "source": [
    "# for column in data:\n",
    "#     data.drop(data.loc[data[column] <0].index, inplace=True)"
   ]
  },
  {
   "cell_type": "code",
   "execution_count": null,
   "metadata": {},
   "outputs": [],
   "source": []
  },
  {
   "cell_type": "code",
   "execution_count": 1,
   "metadata": {
    "scrolled": true
   },
   "outputs": [
    {
     "ename": "NameError",
     "evalue": "name 'data' is not defined",
     "output_type": "error",
     "traceback": [
      "\u001b[1;31m---------------------------------------------------------------------------\u001b[0m",
      "\u001b[1;31mNameError\u001b[0m                                 Traceback (most recent call last)",
      "\u001b[1;32m~\\AppData\\Local\\Temp/ipykernel_4164/1908241881.py\u001b[0m in \u001b[0;36m<module>\u001b[1;34m\u001b[0m\n\u001b[1;32m----> 1\u001b[1;33m \u001b[1;32mfor\u001b[0m \u001b[0mcolumn\u001b[0m \u001b[1;32min\u001b[0m \u001b[0mdata\u001b[0m\u001b[1;33m:\u001b[0m\u001b[1;33m\u001b[0m\u001b[1;33m\u001b[0m\u001b[0m\n\u001b[0m\u001b[0;32m      2\u001b[0m     \u001b[1;32mif\u001b[0m \u001b[0mdata\u001b[0m\u001b[1;33m[\u001b[0m\u001b[0mcolumn\u001b[0m\u001b[1;33m]\u001b[0m\u001b[1;33m.\u001b[0m\u001b[0mdtype\u001b[0m \u001b[1;33m==\u001b[0m\u001b[1;34m'int64'\u001b[0m \u001b[1;32mand\u001b[0m \u001b[0mdata\u001b[0m\u001b[1;33m[\u001b[0m\u001b[0mcolumn\u001b[0m\u001b[1;33m]\u001b[0m\u001b[1;33m.\u001b[0m\u001b[0mdtype\u001b[0m \u001b[1;33m==\u001b[0m\u001b[1;34m'float64'\u001b[0m\u001b[1;33m:\u001b[0m\u001b[1;33m\u001b[0m\u001b[1;33m\u001b[0m\u001b[0m\n\u001b[0;32m      3\u001b[0m         \u001b[0mprint\u001b[0m\u001b[1;33m(\u001b[0m\u001b[0mcolumn\u001b[0m\u001b[1;33m,\u001b[0m \u001b[0mdata\u001b[0m\u001b[1;33m.\u001b[0m\u001b[0mID\u001b[0m\u001b[1;33m[\u001b[0m\u001b[0mdata\u001b[0m\u001b[1;33m[\u001b[0m\u001b[0mcolumn\u001b[0m\u001b[1;33m]\u001b[0m\u001b[1;33m<\u001b[0m\u001b[1;36m0\u001b[0m\u001b[1;33m]\u001b[0m\u001b[1;33m.\u001b[0m\u001b[0mcount\u001b[0m\u001b[1;33m(\u001b[0m\u001b[1;33m)\u001b[0m\u001b[1;33m)\u001b[0m\u001b[1;33m\u001b[0m\u001b[1;33m\u001b[0m\u001b[0m\n",
      "\u001b[1;31mNameError\u001b[0m: name 'data' is not defined"
     ]
    }
   ],
   "source": [
    "for column in data:\n",
    "    if data[column].dtype =='int64' or data[column].dtype =='float64':\n",
    "        print(column, data.ID[data[column]<0].count())"
   ]
  },
  {
   "cell_type": "code",
   "execution_count": 129,
   "metadata": {
    "scrolled": false
   },
   "outputs": [
    {
     "data": {
      "image/png": "[encoded data removed]",
      "text/plain": [
       "<Figure size 432x288 with 1 Axes>"
      ]
     },
     "metadata": {
      "needs_background": "light"
     },
     "output_type": "display_data"
    },
    {
     "data": {
      "image/png": "[encoded data removed]",
      "text/plain": [
       "<Figure size 432x288 with 1 Axes>"
      ]
     },
     "metadata": {
      "needs_background": "light"
     },
     "output_type": "display_data"
    },
    {
     "data": {
      "image/png": "[encoded data removed]",
      "text/plain": [
       "<Figure size 432x288 with 1 Axes>"
      ]
     },
     "metadata": {
      "needs_background": "light"
     },
     "output_type": "display_data"
    },
    {
     "data": {
      "image/png": "[encoded data removed]",
      "text/plain": [
       "<Figure size 432x288 with 1 Axes>"
      ]
     },
     "metadata": {
      "needs_background": "light"
     },
     "output_type": "display_data"
    },
    {
     "data": {
      "image/png": "[encoded data removed]",
      "text/plain": [
       "<Figure size 432x288 with 1 Axes>"
      ]
     },
     "metadata": {
      "needs_background": "light"
     },
     "output_type": "display_data"
    },
    {
     "data": {
      "image/png": "[encoded data removed]",
      "text/plain": [
       "<Figure size 432x288 with 1 Axes>"
      ]
     },
     "metadata": {
      "needs_background": "light"
     },
     "output_type": "display_data"
    },
    {
     "data": {
      "image/png": "[encoded data removed]",
      "text/plain": [
       "<Figure size 432x288 with 1 Axes>"
      ]
     },
     "metadata": {
      "needs_background": "light"
     },
     "output_type": "display_data"
    },
    {
     "data": {
      "image/png": "[encoded data removed]",
      "text/plain": [
       "<Figure size 432x288 with 1 Axes>"
      ]
     },
     "metadata": {
      "needs_background": "light"
     },
     "output_type": "display_data"
    },
    {
     "data": {
      "image/png": "[encoded data removed]",
      "text/plain": [
       "<Figure size 432x288 with 1 Axes>"
      ]
     },
     "metadata": {
      "needs_background": "light"
     },
     "output_type": "display_data"
    },
    {
     "data": {
      "image/png": "[encoded data removed]",
      "text/plain": [
       "<Figure size 432x288 with 1 Axes>"
      ]
     },
     "metadata": {
      "needs_background": "light"
     },
     "output_type": "display_data"
    },
    {
     "data": {
      "image/png": "[encoded data removed]",
      "text/plain": [
       "<Figure size 432x288 with 1 Axes>"
      ]
     },
     "metadata": {
      "needs_background": "light"
     },
     "output_type": "display_data"
    }
   ],
   "source": [
    "# checking for outliers\n",
    "for column in data:\n",
    "    if data[column].dtype =='int64' or data[column].dtype =='float64':\n",
    "        plt.figure()\n",
    "        sns.boxplot(data[column])\n",
    "        plt.show()"
   ]
  },
  {
   "cell_type": "code",
   "execution_count": 269,
   "metadata": {
    "scrolled": true
   },
   "outputs": [],
   "source": [
    "# sns.pairplot(data, hue='Class')"
   ]
  },
  {
   "cell_type": "code",
   "execution_count": 12,
   "metadata": {},
   "outputs": [
    {
     "data": {
      "text/html": [
       "<div>\n",
       "<style scoped>\n",
       "    .dataframe tbody tr th:only-of-type {\n",
       "        vertical-align: middle;\n",
       "    }\n",
       "\n",
       "    .dataframe tbody tr th {\n",
       "        vertical-align: top;\n",
       "    }\n",
       "\n",
       "    .dataframe thead th {\n",
       "        text-align: right;\n",
       "    }\n",
       "</style>\n",
       "<table border=\"1\" class=\"dataframe\">\n",
       "  <thead>\n",
       "    <tr style=\"text-align: right;\">\n",
       "      <th></th>\n",
       "      <th>ID</th>\n",
       "      <th>Year</th>\n",
       "      <th>Organization Group Code</th>\n",
       "      <th>Department Code</th>\n",
       "      <th>Union Code</th>\n",
       "      <th>Job Family Code</th>\n",
       "      <th>Job Code</th>\n",
       "      <th>Overtime</th>\n",
       "      <th>Other Salaries</th>\n",
       "      <th>Retirement</th>\n",
       "      <th>Health/Dental</th>\n",
       "      <th>Other Benefits</th>\n",
       "      <th>Total Benefits</th>\n",
       "      <th>Class</th>\n",
       "    </tr>\n",
       "  </thead>\n",
       "  <tbody>\n",
       "    <tr>\n",
       "      <th>ID</th>\n",
       "      <td>1.000000</td>\n",
       "      <td>-0.001357</td>\n",
       "      <td>0.000236</td>\n",
       "      <td>-0.000535</td>\n",
       "      <td>0.000060</td>\n",
       "      <td>-0.000149</td>\n",
       "      <td>0.000349</td>\n",
       "      <td>-0.000923</td>\n",
       "      <td>-0.000117</td>\n",
       "      <td>-0.000977</td>\n",
       "      <td>-0.001286</td>\n",
       "      <td>-0.002918</td>\n",
       "      <td>-0.001621</td>\n",
       "      <td>0.000525</td>\n",
       "    </tr>\n",
       "    <tr>\n",
       "      <th>Year</th>\n",
       "      <td>-0.001357</td>\n",
       "      <td>1.000000</td>\n",
       "      <td>-0.004740</td>\n",
       "      <td>0.000745</td>\n",
       "      <td>0.001289</td>\n",
       "      <td>-0.003428</td>\n",
       "      <td>-0.000004</td>\n",
       "      <td>0.026987</td>\n",
       "      <td>-0.009350</td>\n",
       "      <td>0.001891</td>\n",
       "      <td>0.046810</td>\n",
       "      <td>0.055071</td>\n",
       "      <td>0.027827</td>\n",
       "      <td>0.023302</td>\n",
       "    </tr>\n",
       "    <tr>\n",
       "      <th>Organization Group Code</th>\n",
       "      <td>0.000236</td>\n",
       "      <td>-0.004740</td>\n",
       "      <td>1.000000</td>\n",
       "      <td>-0.229052</td>\n",
       "      <td>-0.007327</td>\n",
       "      <td>-0.527570</td>\n",
       "      <td>-0.432184</td>\n",
       "      <td>-0.301712</td>\n",
       "      <td>-0.226052</td>\n",
       "      <td>-0.243119</td>\n",
       "      <td>-0.231393</td>\n",
       "      <td>0.022912</td>\n",
       "      <td>-0.202476</td>\n",
       "      <td>-0.223910</td>\n",
       "    </tr>\n",
       "    <tr>\n",
       "      <th>Department Code</th>\n",
       "      <td>-0.000535</td>\n",
       "      <td>0.000745</td>\n",
       "      <td>-0.229052</td>\n",
       "      <td>1.000000</td>\n",
       "      <td>0.061218</td>\n",
       "      <td>0.258707</td>\n",
       "      <td>0.224533</td>\n",
       "      <td>0.183861</td>\n",
       "      <td>0.083146</td>\n",
       "      <td>0.025114</td>\n",
       "      <td>-0.005881</td>\n",
       "      <td>-0.128917</td>\n",
       "      <td>-0.017411</td>\n",
       "      <td>0.003700</td>\n",
       "    </tr>\n",
       "    <tr>\n",
       "      <th>Union Code</th>\n",
       "      <td>0.000060</td>\n",
       "      <td>0.001289</td>\n",
       "      <td>-0.007327</td>\n",
       "      <td>0.061218</td>\n",
       "      <td>1.000000</td>\n",
       "      <td>0.055210</td>\n",
       "      <td>0.133388</td>\n",
       "      <td>0.061510</td>\n",
       "      <td>0.167970</td>\n",
       "      <td>-0.079131</td>\n",
       "      <td>-0.083012</td>\n",
       "      <td>-0.285390</td>\n",
       "      <td>-0.136384</td>\n",
       "      <td>-0.088473</td>\n",
       "    </tr>\n",
       "    <tr>\n",
       "      <th>Job Family Code</th>\n",
       "      <td>-0.000149</td>\n",
       "      <td>-0.003428</td>\n",
       "      <td>-0.527570</td>\n",
       "      <td>0.258707</td>\n",
       "      <td>0.055210</td>\n",
       "      <td>1.000000</td>\n",
       "      <td>0.855668</td>\n",
       "      <td>0.316131</td>\n",
       "      <td>0.186080</td>\n",
       "      <td>0.151371</td>\n",
       "      <td>0.085329</td>\n",
       "      <td>-0.058150</td>\n",
       "      <td>0.098376</td>\n",
       "      <td>0.106058</td>\n",
       "    </tr>\n",
       "    <tr>\n",
       "      <th>Job Code</th>\n",
       "      <td>0.000349</td>\n",
       "      <td>-0.000004</td>\n",
       "      <td>-0.432184</td>\n",
       "      <td>0.224533</td>\n",
       "      <td>0.133388</td>\n",
       "      <td>0.855668</td>\n",
       "      <td>1.000000</td>\n",
       "      <td>0.289687</td>\n",
       "      <td>0.168297</td>\n",
       "      <td>0.049885</td>\n",
       "      <td>-0.030261</td>\n",
       "      <td>-0.102232</td>\n",
       "      <td>-0.004287</td>\n",
       "      <td>0.036844</td>\n",
       "    </tr>\n",
       "    <tr>\n",
       "      <th>Overtime</th>\n",
       "      <td>-0.000923</td>\n",
       "      <td>0.026987</td>\n",
       "      <td>-0.301712</td>\n",
       "      <td>0.183861</td>\n",
       "      <td>0.061510</td>\n",
       "      <td>0.316131</td>\n",
       "      <td>0.289687</td>\n",
       "      <td>1.000000</td>\n",
       "      <td>0.361632</td>\n",
       "      <td>0.314432</td>\n",
       "      <td>0.308647</td>\n",
       "      <td>0.061956</td>\n",
       "      <td>0.285985</td>\n",
       "      <td>0.288897</td>\n",
       "    </tr>\n",
       "    <tr>\n",
       "      <th>Other Salaries</th>\n",
       "      <td>-0.000117</td>\n",
       "      <td>-0.009350</td>\n",
       "      <td>-0.226052</td>\n",
       "      <td>0.083146</td>\n",
       "      <td>0.167970</td>\n",
       "      <td>0.186080</td>\n",
       "      <td>0.168297</td>\n",
       "      <td>0.361632</td>\n",
       "      <td>1.000000</td>\n",
       "      <td>0.349144</td>\n",
       "      <td>0.216293</td>\n",
       "      <td>0.054032</td>\n",
       "      <td>0.276517</td>\n",
       "      <td>0.317438</td>\n",
       "    </tr>\n",
       "    <tr>\n",
       "      <th>Retirement</th>\n",
       "      <td>-0.000977</td>\n",
       "      <td>0.001891</td>\n",
       "      <td>-0.243119</td>\n",
       "      <td>0.025114</td>\n",
       "      <td>-0.079131</td>\n",
       "      <td>0.151371</td>\n",
       "      <td>0.049885</td>\n",
       "      <td>0.314432</td>\n",
       "      <td>0.349144</td>\n",
       "      <td>1.000000</td>\n",
       "      <td>0.787526</td>\n",
       "      <td>0.671137</td>\n",
       "      <td>0.962205</td>\n",
       "      <td>0.872818</td>\n",
       "    </tr>\n",
       "    <tr>\n",
       "      <th>Health/Dental</th>\n",
       "      <td>-0.001286</td>\n",
       "      <td>0.046810</td>\n",
       "      <td>-0.231393</td>\n",
       "      <td>-0.005881</td>\n",
       "      <td>-0.083012</td>\n",
       "      <td>0.085329</td>\n",
       "      <td>-0.030261</td>\n",
       "      <td>0.308647</td>\n",
       "      <td>0.216293</td>\n",
       "      <td>0.787526</td>\n",
       "      <td>1.000000</td>\n",
       "      <td>0.606259</td>\n",
       "      <td>0.888821</td>\n",
       "      <td>0.798186</td>\n",
       "    </tr>\n",
       "    <tr>\n",
       "      <th>Other Benefits</th>\n",
       "      <td>-0.002918</td>\n",
       "      <td>0.055071</td>\n",
       "      <td>0.022912</td>\n",
       "      <td>-0.128917</td>\n",
       "      <td>-0.285390</td>\n",
       "      <td>-0.058150</td>\n",
       "      <td>-0.102232</td>\n",
       "      <td>0.061956</td>\n",
       "      <td>0.054032</td>\n",
       "      <td>0.671137</td>\n",
       "      <td>0.606259</td>\n",
       "      <td>1.000000</td>\n",
       "      <td>0.796860</td>\n",
       "      <td>0.657243</td>\n",
       "    </tr>\n",
       "    <tr>\n",
       "      <th>Total Benefits</th>\n",
       "      <td>-0.001621</td>\n",
       "      <td>0.027827</td>\n",
       "      <td>-0.202476</td>\n",
       "      <td>-0.017411</td>\n",
       "      <td>-0.136384</td>\n",
       "      <td>0.098376</td>\n",
       "      <td>-0.004287</td>\n",
       "      <td>0.285985</td>\n",
       "      <td>0.276517</td>\n",
       "      <td>0.962205</td>\n",
       "      <td>0.888821</td>\n",
       "      <td>0.796860</td>\n",
       "      <td>1.000000</td>\n",
       "      <td>0.889430</td>\n",
       "    </tr>\n",
       "    <tr>\n",
       "      <th>Class</th>\n",
       "      <td>0.000525</td>\n",
       "      <td>0.023302</td>\n",
       "      <td>-0.223910</td>\n",
       "      <td>0.003700</td>\n",
       "      <td>-0.088473</td>\n",
       "      <td>0.106058</td>\n",
       "      <td>0.036844</td>\n",
       "      <td>0.288897</td>\n",
       "      <td>0.317438</td>\n",
       "      <td>0.872818</td>\n",
       "      <td>0.798186</td>\n",
       "      <td>0.657243</td>\n",
       "      <td>0.889430</td>\n",
       "      <td>1.000000</td>\n",
       "    </tr>\n",
       "  </tbody>\n",
       "</table>\n",
       "</div>"
      ],
      "text/plain": [
       "                               ID      Year  Organization Group Code  \\\n",
       "ID                       1.000000 -0.001357                 0.000236   \n",
       "Year                    -0.001357  1.000000                -0.004740   \n",
       "Organization Group Code  0.000236 -0.004740                 1.000000   \n",
       "Department Code         -0.000535  0.000745                -0.229052   \n",
       "Union Code               0.000060  0.001289                -0.007327   \n",
       "Job Family Code         -0.000149 -0.003428                -0.527570   \n",
       "Job Code                 0.000349 -0.000004                -0.432184   \n",
       "Overtime                -0.000923  0.026987                -0.301712   \n",
       "Other Salaries          -0.000117 -0.009350                -0.226052   \n",
       "Retirement              -0.000977  0.001891                -0.243119   \n",
       "Health/Dental           -0.001286  0.046810                -0.231393   \n",
       "Other Benefits          -0.002918  0.055071                 0.022912   \n",
       "Total Benefits          -0.001621  0.027827                -0.202476   \n",
       "Class                    0.000525  0.023302                -0.223910   \n",
       "\n",
       "                         Department Code  Union Code  Job Family Code  \\\n",
       "ID                             -0.000535    0.000060        -0.000149   \n",
       "Year                            0.000745    0.001289        -0.003428   \n",
       "Organization Group Code        -0.229052   -0.007327        -0.527570   \n",
       "Department Code                 1.000000    0.061218         0.258707   \n",
       "Union Code                      0.061218    1.000000         0.055210   \n",
       "Job Family Code                 0.258707    0.055210         1.000000   \n",
       "Job Code                        0.224533    0.133388         0.855668   \n",
       "Overtime                        0.183861    0.061510         0.316131   \n",
       "Other Salaries                  0.083146    0.167970         0.186080   \n",
       "Retirement                      0.025114   -0.079131         0.151371   \n",
       "Health/Dental                  -0.005881   -0.083012         0.085329   \n",
       "Other Benefits                 -0.128917   -0.285390        -0.058150   \n",
       "Total Benefits                 -0.017411   -0.136384         0.098376   \n",
       "Class                           0.003700   -0.088473         0.106058   \n",
       "\n",
       "                         Job Code  Overtime  Other Salaries  Retirement  \\\n",
       "ID                       0.000349 -0.000923       -0.000117   -0.000977   \n",
       "Year                    -0.000004  0.026987       -0.009350    0.001891   \n",
       "Organization Group Code -0.432184 -0.301712       -0.226052   -0.243119   \n",
       "Department Code          0.224533  0.183861        0.083146    0.025114   \n",
       "Union Code               0.133388  0.061510        0.167970   -0.079131   \n",
       "Job Family Code          0.855668  0.316131        0.186080    0.151371   \n",
       "Job Code                 1.000000  0.289687        0.168297    0.049885   \n",
       "Overtime                 0.289687  1.000000        0.361632    0.314432   \n",
       "Other Salaries           0.168297  0.361632        1.000000    0.349144   \n",
       "Retirement               0.049885  0.314432        0.349144    1.000000   \n",
       "Health/Dental           -0.030261  0.308647        0.216293    0.787526   \n",
       "Other Benefits          -0.102232  0.061956        0.054032    0.671137   \n",
       "Total Benefits          -0.004287  0.285985        0.276517    0.962205   \n",
       "Class                    0.036844  0.288897        0.317438    0.872818   \n",
       "\n",
       "                         Health/Dental  Other Benefits  Total Benefits  \\\n",
       "ID                           -0.001286       -0.002918       -0.001621   \n",
       "Year                          0.046810        0.055071        0.027827   \n",
       "Organization Group Code      -0.231393        0.022912       -0.202476   \n",
       "Department Code              -0.005881       -0.128917       -0.017411   \n",
       "Union Code                   -0.083012       -0.285390       -0.136384   \n",
       "Job Family Code               0.085329       -0.058150        0.098376   \n",
       "Job Code                     -0.030261       -0.102232       -0.004287   \n",
       "Overtime                      0.308647        0.061956        0.285985   \n",
       "Other Salaries                0.216293        0.054032        0.276517   \n",
       "Retirement                    0.787526        0.671137        0.962205   \n",
       "Health/Dental                 1.000000        0.606259        0.888821   \n",
       "Other Benefits                0.606259        1.000000        0.796860   \n",
       "Total Benefits                0.888821        0.796860        1.000000   \n",
       "Class                         0.798186        0.657243        0.889430   \n",
       "\n",
       "                            Class  \n",
       "ID                       0.000525  \n",
       "Year                     0.023302  \n",
       "Organization Group Code -0.223910  \n",
       "Department Code          0.003700  \n",
       "Union Code              -0.088473  \n",
       "Job Family Code          0.106058  \n",
       "Job Code                 0.036844  \n",
       "Overtime                 0.288897  \n",
       "Other Salaries           0.317438  \n",
       "Retirement               0.872818  \n",
       "Health/Dental            0.798186  \n",
       "Other Benefits           0.657243  \n",
       "Total Benefits           0.889430  \n",
       "Class                    1.000000  "
      ]
     },
     "execution_count": 12,
     "metadata": {},
     "output_type": "execute_result"
    }
   ],
   "source": [
    "corr_data = data.corr()\n",
    "corr_data"
   ]
  },
  {
   "cell_type": "code",
   "execution_count": 13,
   "metadata": {},
   "outputs": [
    {
     "data": {
      "text/plain": [
       "<matplotlib.axes._subplots.AxesSubplot at 0x290a4831eb8>"
      ]
     },
     "execution_count": 13,
     "metadata": {},
     "output_type": "execute_result"
    },
    {
     "data": {
      "image/png": "[encoded data removed]",
      "text/plain": [
       "<Figure size 864x864 with 2 Axes>"
      ]
     },
     "metadata": {
      "needs_background": "light"
     },
     "output_type": "display_data"
    }
   ],
   "source": [
    "plt.figure(figsize=(12,12))\n",
    "sns.heatmap(corr_data, annot=True, linewidths=.1, square=True)"
   ]
  },
  {
   "cell_type": "code",
   "execution_count": 14,
   "metadata": {},
   "outputs": [],
   "source": [
    "from sklearn.neighbors import KNeighborsClassifier\n",
    "from sklearn import preprocessing\n",
    "from sklearn.preprocessing import StandardScaler"
   ]
  },
  {
   "cell_type": "code",
   "execution_count": 73,
   "metadata": {},
   "outputs": [],
   "source": [
    "Y = data['Class']\n",
    "X = data.drop('Class', axis=1)"
   ]
  },
  {
   "cell_type": "code",
   "execution_count": 75,
   "metadata": {},
   "outputs": [],
   "source": [
    "test_data = pd.read_csv('test.csv' )"
   ]
  },
  {
   "cell_type": "code",
   "execution_count": 85,
   "metadata": {},
   "outputs": [],
   "source": [
    "from sklearn.preprocessing import StandardScaler,LabelEncoder\n",
    "sc = StandardScaler()"
   ]
  },
  {
   "cell_type": "code",
   "execution_count": 87,
   "metadata": {},
   "outputs": [
    {
     "name": "stderr",
     "output_type": "stream",
     "text": [
      "C:\\Users\\vikab\\Anaconda3\\lib\\site-packages\\sklearn\\preprocessing\\data.py:645: DataConversionWarning: Data with input dtype int32, int64, float64 were all converted to float64 by StandardScaler.\n",
      "  return self.partial_fit(X, y)\n",
      "C:\\Users\\vikab\\Anaconda3\\lib\\site-packages\\sklearn\\base.py:464: DataConversionWarning: Data with input dtype int32, int64, float64 were all converted to float64 by StandardScaler.\n",
      "  return self.fit(X, **fit_params).transform(X)\n",
      "C:\\Users\\vikab\\Anaconda3\\lib\\site-packages\\sklearn\\preprocessing\\data.py:645: DataConversionWarning: Data with input dtype int32, int64, float64 were all converted to float64 by StandardScaler.\n",
      "  return self.partial_fit(X, y)\n",
      "C:\\Users\\vikab\\Anaconda3\\lib\\site-packages\\sklearn\\base.py:464: DataConversionWarning: Data with input dtype int32, int64, float64 were all converted to float64 by StandardScaler.\n",
      "  return self.fit(X, **fit_params).transform(X)\n"
     ]
    }
   ],
   "source": [
    "scaledX = sc.fit_transform(X)\n",
    "scaledtest = sc.fit_transform(test_data)\n"
   ]
  },
  {
   "cell_type": "code",
   "execution_count": null,
   "metadata": {},
   "outputs": [],
   "source": []
  },
  {
   "cell_type": "code",
   "execution_count": null,
   "metadata": {},
   "outputs": [],
   "source": []
  },
  {
   "cell_type": "code",
   "execution_count": null,
   "metadata": {},
   "outputs": [],
   "source": []
  },
  {
   "cell_type": "code",
   "execution_count": null,
   "metadata": {},
   "outputs": [],
   "source": []
  },
  {
   "cell_type": "code",
   "execution_count": 76,
   "metadata": {},
   "outputs": [],
   "source": [
    "test_data.drop(['Year Type', 'Organization Group', 'Department', 'Union', 'Job Family', 'Job'], axis=1, inplace=True)"
   ]
  },
  {
   "cell_type": "code",
   "execution_count": 81,
   "metadata": {},
   "outputs": [
    {
     "name": "stdout",
     "output_type": "stream",
     "text": [
      "<class 'pandas.core.frame.DataFrame'>\n",
      "RangeIndex: 63895 entries, 0 to 63894\n",
      "Data columns (total 14 columns):\n",
      "ID                         63895 non-null int64\n",
      "Year                       63895 non-null int64\n",
      "Organization Group Code    63895 non-null int64\n",
      "Department Code            63895 non-null object\n",
      "Union Code                 63895 non-null int64\n",
      "Job Family Code            63895 non-null object\n",
      "Job Code                   63895 non-null object\n",
      "Employee Identifier        63895 non-null int64\n",
      "Overtime                   63895 non-null float64\n",
      "Other Salaries             63895 non-null float64\n",
      "Retirement                 63895 non-null float64\n",
      "Health/Dental              63895 non-null float64\n",
      "Other Benefits             63895 non-null float64\n",
      "Total Benefits             63895 non-null float64\n",
      "dtypes: float64(6), int64(5), object(3)\n",
      "memory usage: 6.8+ MB\n"
     ]
    }
   ],
   "source": [
    "test_data.info()"
   ]
  },
  {
   "cell_type": "code",
   "execution_count": 82,
   "metadata": {},
   "outputs": [],
   "source": [
    "test_data['Department Code'] = le.fit_transform(test_data['Department Code'])\n",
    "test_data['Job Family Code'] = le.fit_transform(test_data['Job Family Code'])\n",
    "test_data['Job Code'] = le.fit_transform(test_data['Job Code'])"
   ]
  },
  {
   "cell_type": "code",
   "execution_count": 153,
   "metadata": {},
   "outputs": [
    {
     "name": "stderr",
     "output_type": "stream",
     "text": [
      "C:\\Users\\vikab\\Anaconda3\\lib\\site-packages\\sklearn\\preprocessing\\data.py:645: DataConversionWarning: Data with input dtype int32, int64, float64 were all converted to float64 by StandardScaler.\n",
      "  return self.partial_fit(X, y)\n",
      "C:\\Users\\vikab\\Anaconda3\\lib\\site-packages\\sklearn\\base.py:464: DataConversionWarning: Data with input dtype int32, int64, float64 were all converted to float64 by StandardScaler.\n",
      "  return self.fit(X, **fit_params).transform(X)\n"
     ]
    }
   ],
   "source": [
    "# scaled_testx = sc.fit_transform(test_data)"
   ]
  },
  {
   "cell_type": "code",
   "execution_count": 209,
   "metadata": {},
   "outputs": [],
   "source": [
    "from sklearn.tree import DecisionTreeClassifier\n",
    "clf=DecisionTreeClassifier(criterion='entropy')"
   ]
  },
  {
   "cell_type": "code",
   "execution_count": 39,
   "metadata": {},
   "outputs": [
    {
     "ename": "NameError",
     "evalue": "name 'clf' is not defined",
     "output_type": "error",
     "traceback": [
      "\u001b[1;31m---------------------------------------------------------------------------\u001b[0m",
      "\u001b[1;31mNameError\u001b[0m                                 Traceback (most recent call last)",
      "\u001b[1;32m<ipython-input-39-de7ddd4e91df>\u001b[0m in \u001b[0;36m<module>\u001b[1;34m\u001b[0m\n\u001b[1;32m----> 1\u001b[1;33m \u001b[0mclf\u001b[0m \u001b[1;33m=\u001b[0m \u001b[0mclf\u001b[0m\u001b[1;33m.\u001b[0m\u001b[0mfit\u001b[0m\u001b[1;33m(\u001b[0m\u001b[0mX\u001b[0m\u001b[1;33m,\u001b[0m \u001b[0mY\u001b[0m\u001b[1;33m)\u001b[0m\u001b[1;33m\u001b[0m\u001b[1;33m\u001b[0m\u001b[0m\n\u001b[0m\u001b[0;32m      2\u001b[0m \u001b[0mclf\u001b[0m\u001b[1;33m\u001b[0m\u001b[1;33m\u001b[0m\u001b[0m\n",
      "\u001b[1;31mNameError\u001b[0m: name 'clf' is not defined"
     ]
    }
   ],
   "source": [
    "clf = clf.fit(X, Y)\n",
    "clf"
   ]
  },
  {
   "cell_type": "code",
   "execution_count": 211,
   "metadata": {},
   "outputs": [
    {
     "data": {
      "text/plain": [
       "array([0.00288349, 0.01422775, 0.00248022, 0.00159712, 0.05972764,\n",
       "       0.00351032, 0.00754793, 0.01786509, 0.01847824, 0.72853673,\n",
       "       0.0254059 , 0.10806014, 0.00967943])"
      ]
     },
     "execution_count": 211,
     "metadata": {},
     "output_type": "execute_result"
    }
   ],
   "source": [
    "clf.feature_importances_"
   ]
  },
  {
   "cell_type": "code",
   "execution_count": 212,
   "metadata": {},
   "outputs": [],
   "source": [
    "predictions = clf.predict(test_data)"
   ]
  },
  {
   "cell_type": "code",
   "execution_count": 213,
   "metadata": {},
   "outputs": [
    {
     "data": {
      "text/plain": [
       "array([1, 3, 2, ..., 2, 2, 3], dtype=int64)"
      ]
     },
     "execution_count": 213,
     "metadata": {},
     "output_type": "execute_result"
    }
   ],
   "source": [
    "predictions"
   ]
  },
  {
   "cell_type": "code",
   "execution_count": 215,
   "metadata": {},
   "outputs": [],
   "source": [
    "pd.DataFrame(predictions).to_csv(\"out.csv\")"
   ]
  },
  {
   "cell_type": "code",
   "execution_count": 77,
   "metadata": {},
   "outputs": [
    {
     "data": {
      "text/plain": [
       "RandomForestClassifier(bootstrap=True, class_weight=None, criterion='gini',\n",
       "            max_depth=None, max_features='auto', max_leaf_nodes=None,\n",
       "            min_impurity_decrease=0.0, min_impurity_split=None,\n",
       "            min_samples_leaf=1, min_samples_split=2,\n",
       "            min_weight_fraction_leaf=0.0, n_estimators=70, n_jobs=None,\n",
       "            oob_score=False, random_state=None, verbose=0,\n",
       "            warm_start=False)"
      ]
     },
     "execution_count": 77,
     "metadata": {},
     "output_type": "execute_result"
    }
   ],
   "source": [
    "from sklearn.ensemble import RandomForestClassifier\n",
    "random_clf = RandomForestClassifier(n_estimators=70)\n",
    "random_clf"
   ]
  },
  {
   "cell_type": "code",
   "execution_count": 89,
   "metadata": {
    "scrolled": true
   },
   "outputs": [],
   "source": [
    "random_clf = random_clf.fit(scaledX, Y)"
   ]
  },
  {
   "cell_type": "code",
   "execution_count": 90,
   "metadata": {},
   "outputs": [
    {
     "data": {
      "text/plain": [
       "array([0.00465098, 0.00873849, 0.00976893, 0.00632439, 0.02668465,\n",
       "       0.01810473, 0.0282621 , 0.00469353, 0.01876845, 0.03388806,\n",
       "       0.22189133, 0.10863527, 0.19283051, 0.31675857])"
      ]
     },
     "execution_count": 90,
     "metadata": {},
     "output_type": "execute_result"
    }
   ],
   "source": [
    "random_clf.feature_importances_"
   ]
  },
  {
   "cell_type": "code",
   "execution_count": 91,
   "metadata": {},
   "outputs": [],
   "source": [
    "random_predictions = random_clf.predict(scaledtest)\n"
   ]
  },
  {
   "cell_type": "code",
   "execution_count": 92,
   "metadata": {},
   "outputs": [],
   "source": [
    "pd.DataFrame(random_predictions).to_csv(\"out111111_rf.csv\")"
   ]
  },
  {
   "cell_type": "code",
   "execution_count": null,
   "metadata": {},
   "outputs": [],
   "source": []
  },
  {
   "cell_type": "code",
   "execution_count": 24,
   "metadata": {},
   "outputs": [],
   "source": [
    "# from sklearn.ensemble import RandomForestRegressor\n",
    "# rf = RandomForestRegressor(random_state = 42)\n",
    "# from pprint import pprint\n",
    "# # Look at parameters used by our current forest\n",
    "# print('Parameters currently in use:\\n')\n",
    "# pprint(rf.get_params())"
   ]
  },
  {
   "cell_type": "code",
   "execution_count": null,
   "metadata": {},
   "outputs": [],
   "source": []
  },
  {
   "cell_type": "code",
   "execution_count": null,
   "metadata": {},
   "outputs": [],
   "source": []
  },
  {
   "cell_type": "code",
   "execution_count": null,
   "metadata": {},
   "outputs": [],
   "source": []
  },
  {
   "cell_type": "code",
   "execution_count": null,
   "metadata": {},
   "outputs": [],
   "source": []
  },
  {
   "cell_type": "code",
   "execution_count": 274,
   "metadata": {},
   "outputs": [],
   "source": [
    "# from sklearn.model_selection import RandomizedSearchCV\n"
   ]
  },
  {
   "cell_type": "code",
   "execution_count": 275,
   "metadata": {},
   "outputs": [],
   "source": [
    "# # Number of trees in random forest\n",
    "# n_estimators = [int(x) for x in np.linspace(start = 200, stop = 2000, num = 10)]\n",
    "# # Number of features to consider at every split\n",
    "# max_features = ['auto', 'sqrt']\n",
    "# # Maximum number of levels in tree\n",
    "# max_depth = [int(x) for x in np.linspace(10, 110, num = 11)]\n",
    "# max_depth.append(None)\n",
    "# # Minimum number of samples required to split a node\n",
    "# min_samples_split = [2, 5, 10]\n",
    "# # Minimum number of samples required at each leaf node\n",
    "# min_samples_leaf = [1, 2, 4]\n",
    "# # Method of selecting samples for training each tree\n",
    "# bootstrap = [True, False]\n",
    "# # Create the random grid"
   ]
  },
  {
   "cell_type": "code",
   "execution_count": 277,
   "metadata": {},
   "outputs": [
    {
     "name": "stdout",
     "output_type": "stream",
     "text": [
      "{'n_estimators': [200, 400, 600, 800, 1000, 1200, 1400, 1600, 1800, 2000], 'max_features': ['auto', 'sqrt'], 'max_depth': [10, 20, 30, 40, 50, 60, 70, 80, 90, 100, 110, None], 'min_samples_split': [2, 5, 10], 'min_samples_leaf': [1, 2, 4], 'bootstrap': [True, False]}\n"
     ]
    }
   ],
   "source": [
    "# random_grid = {'n_estimators': n_estimators,\n",
    "#                'max_features': max_features,\n",
    "#                'max_depth': max_depth,\n",
    "#                'min_samples_split': min_samples_split,\n",
    "#                'min_samples_leaf': min_samples_leaf,\n",
    "#                'bootstrap': bootstrap}\n",
    "# print(random_grid)"
   ]
  },
  {
   "cell_type": "code",
   "execution_count": null,
   "metadata": {},
   "outputs": [
    {
     "name": "stdout",
     "output_type": "stream",
     "text": [
      "Fitting 3 folds for each of 100 candidates, totalling 300 fits\n"
     ]
    },
    {
     "name": "stderr",
     "output_type": "stream",
     "text": [
      "[Parallel(n_jobs=-1)]: Using backend LokyBackend with 4 concurrent workers.\n"
     ]
    }
   ],
   "source": [
    "# rf = RandomForestRegressor()\n",
    "# # Random search of parameters, using 3 fold cross validation, \n",
    "# # search across 100 different combinations, and use all available cores\n",
    "# rf_random = RandomizedSearchCV(estimator = rf, param_distributions = random_grid, n_iter = 100, cv = 3, verbose=2, random_state=42, n_jobs = -1)\n",
    "# # Fit the random search model\n",
    "# rf_random.fit(X, Y)"
   ]
  }
 ],
 "metadata": {
  "kernelspec": {
   "display_name": "Python 3 (ipykernel)",
   "language": "python",
   "name": "python3"
  },
  "language_info": {
   "codemirror_mode": {
    "name": "ipython",
    "version": 3
   },
   "file_extension": ".py",
   "mimetype": "text/x-python",
   "name": "python",
   "nbconvert_exporter": "python",
   "pygments_lexer": "ipython3",
   "version": "3.9.7"
  }
 },
 "nbformat": 4,
 "nbformat_minor": 2
}
